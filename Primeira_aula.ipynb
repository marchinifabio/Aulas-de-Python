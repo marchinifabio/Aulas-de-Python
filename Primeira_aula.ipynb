{
  "nbformat": 4,
  "nbformat_minor": 0,
  "metadata": {
    "colab": {
      "provenance": [],
      "authorship_tag": "ABX9TyNk4zIO9/25aIpVPYhP1rNB",
      "include_colab_link": true
    },
    "kernelspec": {
      "name": "python3",
      "display_name": "Python 3"
    },
    "language_info": {
      "name": "python"
    }
  },
  "cells": [
    {
      "cell_type": "markdown",
      "metadata": {
        "id": "view-in-github",
        "colab_type": "text"
      },
      "source": [
        "<a href=\"https://colab.research.google.com/github/marchinifabio/Python01/blob/main/Primeira_aula.ipynb\" target=\"_parent\"><img src=\"https://colab.research.google.com/assets/colab-badge.svg\" alt=\"Open In Colab\"/></a>"
      ]
    },
    {
      "cell_type": "code",
      "execution_count": null,
      "metadata": {
        "colab": {
          "base_uri": "https://localhost:8080/"
        },
        "id": "dcMVxj5prVMI",
        "outputId": "a4dbb3e8-f3f1-4a4d-e40e-1a1d86b3642d"
      },
      "outputs": [
        {
          "output_type": "stream",
          "name": "stdout",
          "text": [
            "15\n"
          ]
        }
      ],
      "source": [
        "print(1+2+3+4+5)"
      ]
    },
    {
      "cell_type": "code",
      "source": [
        "print((23+19+31)/3)"
      ],
      "metadata": {
        "colab": {
          "base_uri": "https://localhost:8080/"
        },
        "id": "kGGVwx1orkx4",
        "outputId": "cd90a62f-3a1e-4cf4-d879-4a70464b50db"
      },
      "execution_count": null,
      "outputs": [
        {
          "output_type": "stream",
          "name": "stdout",
          "text": [
            "24.333333333333332\n"
          ]
        }
      ]
    },
    {
      "cell_type": "code",
      "source": [
        "print(403 // 73)"
      ],
      "metadata": {
        "colab": {
          "base_uri": "https://localhost:8080/"
        },
        "id": "mIvRYZkjsPGp",
        "outputId": "5b6681c2-554f-4ecf-8ea2-422abfe59617"
      },
      "execution_count": null,
      "outputs": [
        {
          "output_type": "stream",
          "name": "stdout",
          "text": [
            "5\n"
          ]
        }
      ]
    },
    {
      "cell_type": "code",
      "source": [
        "print(403 % 73)"
      ],
      "metadata": {
        "colab": {
          "base_uri": "https://localhost:8080/"
        },
        "id": "x5DdL4hwsneb",
        "outputId": "e87757b4-b769-44b7-b6d3-30a77d907321"
      },
      "execution_count": null,
      "outputs": [
        {
          "output_type": "stream",
          "name": "stdout",
          "text": [
            "38\n"
          ]
        }
      ]
    },
    {
      "cell_type": "code",
      "source": [
        "print(2 ** 10)"
      ],
      "metadata": {
        "colab": {
          "base_uri": "https://localhost:8080/"
        },
        "id": "WNmLhaGBs-Lk",
        "outputId": "8f4af74e-bdd1-4176-a903-0482dc030d31"
      },
      "execution_count": null,
      "outputs": [
        {
          "output_type": "stream",
          "name": "stdout",
          "text": [
            "1024\n"
          ]
        }
      ]
    },
    {
      "cell_type": "code",
      "source": [
        "print(abs(54-57))"
      ],
      "metadata": {
        "colab": {
          "base_uri": "https://localhost:8080/"
        },
        "id": "FZfEPl-PtjN3",
        "outputId": "55b158cb-86e3-4cb7-ab65-5f09ef6ce6df"
      },
      "execution_count": null,
      "outputs": [
        {
          "output_type": "stream",
          "name": "stdout",
          "text": [
            "3\n"
          ]
        }
      ]
    },
    {
      "cell_type": "code",
      "source": [
        "print(min(34,29,31))"
      ],
      "metadata": {
        "colab": {
          "base_uri": "https://localhost:8080/"
        },
        "id": "ENyk8eJAtzsl",
        "outputId": "e2178838-54ad-4d69-e14d-96068f2f982e"
      },
      "execution_count": null,
      "outputs": [
        {
          "output_type": "stream",
          "name": "stdout",
          "text": [
            "29\n"
          ]
        }
      ]
    },
    {
      "cell_type": "code",
      "source": [
        "a = 3\n",
        "b = 4\n",
        "c = a * a + b * b\n",
        "print( c )"
      ],
      "metadata": {
        "colab": {
          "base_uri": "https://localhost:8080/"
        },
        "id": "eNylYoqawPlQ",
        "outputId": "8cd79333-f200-447f-ac42-7ea3660bc5b4"
      },
      "execution_count": null,
      "outputs": [
        {
          "output_type": "stream",
          "name": "stdout",
          "text": [
            "25\n"
          ]
        }
      ]
    },
    {
      "cell_type": "code",
      "source": [
        "s1 = 'ant'\n",
        "s2 = 'bat'\n",
        "s3 = 'cod'\n",
        "res1 = s1 + ' ' + s2 + ' ' + s3\n",
        "res2 = 10 * (s1 + ' ')\n",
        "res3 = (s1 + ' ') + 2 * (s2 + ' ') + 3 * (s3 + ' ')\n",
        "res4 = 7 * (s1 + ' ' + s2 + ' ')\n",
        "res5 = 5 * (s2 + s2 + s3 + ' ')\n",
        "print(res1)\n",
        "print(res2)\n",
        "print(res3)\n",
        "print(res4)\n",
        "print(res5)"
      ],
      "metadata": {
        "colab": {
          "base_uri": "https://localhost:8080/"
        },
        "id": "olpSNQXVw961",
        "outputId": "a758f964-5128-44a0-fed4-5829d16ebcd2"
      },
      "execution_count": null,
      "outputs": [
        {
          "output_type": "stream",
          "name": "stdout",
          "text": [
            "ant bat cod\n",
            "ant ant ant ant ant ant ant ant ant ant \n",
            "ant bat bat cod cod cod \n",
            "ant bat ant bat ant bat ant bat ant bat ant bat ant bat \n",
            "batbatcod batbatcod batbatcod batbatcod batbatcod \n"
          ]
        }
      ]
    },
    {
      "cell_type": "code",
      "source": [
        "preco = float(input('Digite o preço do produto: '))\n",
        "percentual = float(input('Digite o percentual de desconto (0 - 100%): '))\n",
        "\n",
        "desconto = preco * (percentual / 100)\n",
        "final = preco - desconto\n",
        "print(f' O preço de produto é {preco}. Desconto de {percentual}%')\n",
        "print(f' Valor calculado de desconto: {desconto}. Valor final do produto {final}')"
      ],
      "metadata": {
        "colab": {
          "base_uri": "https://localhost:8080/"
        },
        "id": "prpgA8bXAFPc",
        "outputId": "b1444190-4067-4c7e-d952-bd02f6a48c25"
      },
      "execution_count": null,
      "outputs": [
        {
          "output_type": "stream",
          "name": "stdout",
          "text": [
            "Digite o preço do produto: 500\n",
            "Digite o percentual de desconto (0 - 100%): 20\n",
            " O preço de produto é 500.0. Desconto de 20.0%\n",
            " Valor calculado de desconto: 100.0. Valor final do produto 400.0\n"
          ]
        }
      ]
    },
    {
      "cell_type": "code",
      "source": [
        "km = int(input('Quantos quilometros foram percorridos? '))\n",
        "dias = int(input('Quantos dias foram percorridos? '))\n",
        "preco = 60 * dias + 0.15 * km\n",
        "\n",
        "print(f'km = {km}. dias: {dias}.')\n",
        "print(f'Valor a ser pago: {preco}')"
      ],
      "metadata": {
        "id": "xJfso98y1ToB",
        "colab": {
          "base_uri": "https://localhost:8080/"
        },
        "outputId": "67043c0f-c67d-47e0-c335-52d07206f955"
      },
      "execution_count": null,
      "outputs": [
        {
          "output_type": "stream",
          "name": "stdout",
          "text": [
            "Quantos quilometros foram percorridos? 7500\n",
            "Quantos dias foram percorridos? 20\n",
            "km = 7500. dias: 20.\n",
            "Valor a ser pago: 2325.0\n"
          ]
        }
      ]
    },
    {
      "cell_type": "code",
      "source": [
        "frase = input('Digite uma frase')\n",
        "tam = len(frase)\n",
        "frase2 = frase[:int(tam/2)]\n",
        "\n",
        "print(frase2[-2:])"
      ],
      "metadata": {
        "colab": {
          "base_uri": "https://localhost:8080/"
        },
        "id": "K5JRDZEkBfnE",
        "outputId": "fabd9528-a66b-4582-a7ce-27457c77a1b9"
      },
      "execution_count": null,
      "outputs": [
        {
          "output_type": "stream",
          "name": "stdout",
          "text": [
            "Digite uma frasegatogalatico\n",
            "ga\n"
          ]
        }
      ]
    }
  ]
}