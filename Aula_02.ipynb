{
  "nbformat": 4,
  "nbformat_minor": 0,
  "metadata": {
    "colab": {
      "provenance": [],
      "authorship_tag": "ABX9TyM57cOv7KBwYAnOX8CQ0GpH",
      "include_colab_link": true
    },
    "kernelspec": {
      "name": "python3",
      "display_name": "Python 3"
    },
    "language_info": {
      "name": "python"
    }
  },
  "cells": [
    {
      "cell_type": "markdown",
      "metadata": {
        "id": "view-in-github",
        "colab_type": "text"
      },
      "source": [
        "<a href=\"https://colab.research.google.com/github/marchinifabio/Python01/blob/main/Aula_02.ipynb\" target=\"_parent\"><img src=\"https://colab.research.google.com/assets/colab-badge.svg\" alt=\"Open In Colab\"/></a>"
      ]
    },
    {
      "cell_type": "code",
      "execution_count": 9,
      "metadata": {
        "id": "nIl-CmyjfpGM"
      },
      "outputs": [],
      "source": [
        "if (2 + 2 < 4):\n",
        " print(\"Verdadeiro !\")"
      ]
    },
    {
      "cell_type": "code",
      "source": [
        "if (7//3 == 1 +1):\n",
        " print(\"Verdadeiro !\")"
      ],
      "metadata": {
        "colab": {
          "base_uri": "https://localhost:8080/"
        },
        "id": "9yRxjLfeh253",
        "outputId": "aeac8ad4-81db-45fc-d065-b568001bfe17"
      },
      "execution_count": 10,
      "outputs": [
        {
          "output_type": "stream",
          "name": "stdout",
          "text": [
            "Verdadeiro !\n"
          ]
        }
      ]
    },
    {
      "cell_type": "code",
      "source": [
        "if (3**2 + 4**2 == 25):\n",
        " print(\"Verdadeiro !\")"
      ],
      "metadata": {
        "colab": {
          "base_uri": "https://localhost:8080/"
        },
        "id": "DzKiMrD_inbh",
        "outputId": "3e2a3271-6964-482d-e3cc-296eae664681"
      },
      "execution_count": 11,
      "outputs": [
        {
          "output_type": "stream",
          "name": "stdout",
          "text": [
            "Verdadeiro !\n"
          ]
        }
      ]
    },
    {
      "cell_type": "code",
      "source": [
        "if (2 + 4 + 6 > 12):\n",
        " print(\"Verdadeiro !\")"
      ],
      "metadata": {
        "id": "y6UWg8h2jfLm"
      },
      "execution_count": 12,
      "outputs": []
    },
    {
      "cell_type": "code",
      "source": [
        "if (1387 % 19 == 0):\n",
        " print(\"Verdadeiro !\")"
      ],
      "metadata": {
        "colab": {
          "base_uri": "https://localhost:8080/"
        },
        "id": "D_7m28aHj5MB",
        "outputId": "873fda6d-7bde-4df7-a54f-a13aea7d9f65"
      },
      "execution_count": 13,
      "outputs": [
        {
          "output_type": "stream",
          "name": "stdout",
          "text": [
            "Verdadeiro !\n"
          ]
        }
      ]
    },
    {
      "cell_type": "code",
      "source": [
        "if (31 % 2 == 0):\n",
        " print(\"Verdadeiro !\")"
      ],
      "metadata": {
        "id": "a2plq5UpkLqq"
      },
      "execution_count": 14,
      "outputs": []
    },
    {
      "cell_type": "code",
      "source": [
        "if (min(34,29,31) < 30):\n",
        " print(\"Verdadeiro !\")"
      ],
      "metadata": {
        "colab": {
          "base_uri": "https://localhost:8080/"
        },
        "id": "USo6Ft-NkgLu",
        "outputId": "d8dc5499-62cb-4a90-8da0-a4309fce1356"
      },
      "execution_count": 15,
      "outputs": [
        {
          "output_type": "stream",
          "name": "stdout",
          "text": [
            "Verdadeiro !\n"
          ]
        }
      ]
    },
    {
      "cell_type": "code",
      "source": [
        "idade = 62\n",
        "if (idade > 60):\n",
        " print(\"Você tem direito aos beneficios!\")"
      ],
      "metadata": {
        "colab": {
          "base_uri": "https://localhost:8080/"
        },
        "id": "H99tDuzMlotP",
        "outputId": "69385eed-a5af-40af-95ec-db53a1bc1aef"
      },
      "execution_count": 16,
      "outputs": [
        {
          "output_type": "stream",
          "name": "stdout",
          "text": [
            "Você tem direito aos beneficios!\n"
          ]
        }
      ]
    },
    {
      "cell_type": "code",
      "source": [
        "dano = 13\n",
        "escudo = 0\n",
        "if (dano > 10 and escudo == 0):\n",
        " print(\"Você está morto!\")"
      ],
      "metadata": {
        "colab": {
          "base_uri": "https://localhost:8080/"
        },
        "id": "eI0WjqdJmP5P",
        "outputId": "af6d7819-9413-4516-db00-730104a90b6c"
      },
      "execution_count": 17,
      "outputs": [
        {
          "output_type": "stream",
          "name": "stdout",
          "text": [
            "Você está morto!\n"
          ]
        }
      ]
    },
    {
      "cell_type": "code",
      "source": [
        "norte = True\n",
        "sul = False\n",
        "leste = False\n",
        "oeste = False\n",
        "if (norte == True or sul == True or leste == True or oeste == True):\n",
        " print(\"Você escapou!\")"
      ],
      "metadata": {
        "colab": {
          "base_uri": "https://localhost:8080/"
        },
        "id": "OkrA62EPnTzx",
        "outputId": "d352f197-c1f0-4d40-93e2-fc0fb5b415ba"
      },
      "execution_count": 18,
      "outputs": [
        {
          "output_type": "stream",
          "name": "stdout",
          "text": [
            "Você escapou!\n"
          ]
        }
      ]
    },
    {
      "cell_type": "code",
      "source": [
        "ano = 1993\n",
        "if (ano % 4 ==0):\n",
        " print(\"Ano bissexto!\")\n",
        "else:\n",
        " print(\"Ano definitivamente não é bissexto!\")"
      ],
      "metadata": {
        "colab": {
          "base_uri": "https://localhost:8080/"
        },
        "id": "9JNqs9RuoQw3",
        "outputId": "ae6f159e-1f8e-48af-bcab-7af28a269dba"
      },
      "execution_count": 21,
      "outputs": [
        {
          "output_type": "stream",
          "name": "stdout",
          "text": [
            "Ano definitivamente não é bissexto!\n"
          ]
        }
      ]
    },
    {
      "cell_type": "code",
      "source": [
        "cima = True\n",
        "baixo = False\n",
        "if(cima == True and baixo == True):\n",
        " print(\"Decida-se!\")\n",
        "else:\n",
        "  print(\"Você escolheu um caminho!\")"
      ],
      "metadata": {
        "colab": {
          "base_uri": "https://localhost:8080/"
        },
        "id": "0s2WRI19qoKc",
        "outputId": "5f35b228-3e6e-4f1d-d0f5-9eb3e1818489"
      },
      "execution_count": 27,
      "outputs": [
        {
          "output_type": "stream",
          "name": "stdout",
          "text": [
            "Você escolheu um caminho!\n"
          ]
        }
      ]
    },
    {
      "cell_type": "code",
      "source": [
        "A = int(input('Digite o 1º lado do triangulo: '))\n",
        "B = int(input('Digite o 2º lado do triangulo: '))\n",
        "C = int(input('Digite o 3º lado do triangulo: '))\n",
        "\n",
        "if((A > 0 and B > 0 and C > 0) and (A + B > C and A + C > B and B + C > A)):\n",
        "  #Se chegou até aqui, é porque o triangulo é valido!\n",
        "  if(A != B and A != C and B != C ):\n",
        "    print('Triangulo escaleno!')\n",
        "  else:\n",
        "    if(A == B and B == C):\n",
        "       print('Triangulo equilátero!')\n",
        "    else:\n",
        "       print('Triangulo isósceles!')\n",
        "else:\n",
        "  print('Ao menos um dos valores indicados não servem para formar um triangulo!')\n",
        ""
      ],
      "metadata": {
        "colab": {
          "base_uri": "https://localhost:8080/"
        },
        "id": "Yn1zoZXivdkl",
        "outputId": "5ee46e0f-0ce0-454d-fe19-be71ded49f56"
      },
      "execution_count": 40,
      "outputs": [
        {
          "output_type": "stream",
          "name": "stdout",
          "text": [
            "Digite o 1º lado do triangulo: 3\n",
            "Digite o 2º lado do triangulo: 4\n",
            "Digite o 3º lado do triangulo: 5\n",
            "Triangulo escaleno!\n"
          ]
        }
      ]
    },
    {
      "cell_type": "code",
      "source": [
        "print('CALCULADORA')\n",
        "print('+ Adição')\n",
        "print('- Subtração')\n",
        "print('* Multiplicação')\n",
        "print('/ Divisão')\n",
        "print('Pressione qualquer tecla para sair.')\n",
        "\n",
        "op = input('Qual operação deseja realizar?')\n",
        "x = int(input('Digite o Primeiro valor: '))\n",
        "y = int(input('Digite o Segundo valor: '))\n",
        "\n",
        "if(op == '+'):\n",
        "  res = x + y\n",
        "  print(f'Resultado: {x} + {y} = {res}')\n",
        "elif(op == '-'):\n",
        "  res = x - y\n",
        "  print(f'Resultado {x} - {y} = {res}')\n",
        "elif(op == '*'):\n",
        "  res = x * y\n",
        "  print(f'Resultado {x} * {y} = {res}')\n",
        "elif(op == '/'):\n",
        "  res = x / y\n",
        "  print(f'Resultado {x} / {y} = {res}')\n",
        "else:\n",
        "  print('Encerrando o programa...')"
      ],
      "metadata": {
        "colab": {
          "base_uri": "https://localhost:8080/"
        },
        "id": "swk1gsGJ3A8h",
        "outputId": "0ef0d3ba-1352-43ad-a456-c8b2ed8e275b"
      },
      "execution_count": 43,
      "outputs": [
        {
          "output_type": "stream",
          "name": "stdout",
          "text": [
            "CALCULADORA\n",
            "+ Adição\n",
            "- Subtração\n",
            "* Multiplicação\n",
            "/ Divisão\n",
            "Pressione qualquer tecla para sair.\n",
            "Qual operação deseja realizar?*\n",
            "Digite o Primeiro valor: 4\n",
            "Digite o Segundo valor: 8\n",
            "Resultado 4 * 8 = 32\n"
          ]
        }
      ]
    },
    {
      "cell_type": "code",
      "source": [
        "kwh = float(input('Quantos kwh? '))\n",
        "tipo = input('Qual tipo de instalação? (R , C ou I) ')\n",
        "\n",
        "if(tipo == 'R'):\n",
        "  if kwh >= 500:\n",
        "     preco = 0.65\n",
        "  else:\n",
        "     preco = 0.4\n",
        "  print(f'total a pagar: {kwh * preco}')\n",
        "\n",
        "elif(tipo == 'C'):\n",
        "  if kwh >= 1000:\n",
        "     preco = 0.6\n",
        "  else:\n",
        "     preco = 0.55\n",
        "  print(f'total a pagar: {kwh * preco}')\n",
        "\n",
        "elif(tipo == 'I'):\n",
        "  if kwh >= 5000:\n",
        "     preco = 0.6\n",
        "  else:\n",
        "     preco = 0.55\n",
        "  print(f'total a pagar: {kwh * preco}')\n",
        "\n",
        "else:\n",
        "  print('Instalação invalida. Encerrando...')\n"
      ],
      "metadata": {
        "colab": {
          "base_uri": "https://localhost:8080/"
        },
        "id": "ld0cHwLF-EIH",
        "outputId": "cbc44e7e-fbc1-4ae8-eb79-613e24881576"
      },
      "execution_count": 46,
      "outputs": [
        {
          "output_type": "stream",
          "name": "stdout",
          "text": [
            "Quantos kwh? 650\n",
            "Qual tipo de instalação? (R , C ou I) I\n",
            "total a pagar: 357.50000000000006\n"
          ]
        }
      ]
    }
  ]
}